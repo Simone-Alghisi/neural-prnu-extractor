{
 "cells": [
  {
   "cell_type": "code",
   "execution_count": 1,
   "id": "a4326a77",
   "metadata": {},
   "outputs": [],
   "source": [
    "import matplotlib.pyplot as plt\n",
    "from matplotlib.pyplot import figure\n",
    "import csv\n",
    "import pandas as pd\n",
    "import pickle\n",
    "import numpy as np"
   ]
  },
  {
   "cell_type": "code",
   "execution_count": 36,
   "id": "8468d15c",
   "metadata": {},
   "outputs": [],
   "source": [
    "lr = pd.read_csv(\"./stats/run_lr.csv\")"
   ]
  },
  {
   "cell_type": "code",
   "execution_count": 37,
   "id": "270ba413",
   "metadata": {},
   "outputs": [],
   "source": [
    "psnr_tr = pd.read_csv(\"./stats/run_psnr_train.csv\")"
   ]
  },
  {
   "cell_type": "code",
   "execution_count": 38,
   "id": "b2930429",
   "metadata": {},
   "outputs": [
    {
     "data": {
      "text/html": [
       "<div>\n",
       "<style scoped>\n",
       "    .dataframe tbody tr th:only-of-type {\n",
       "        vertical-align: middle;\n",
       "    }\n",
       "\n",
       "    .dataframe tbody tr th {\n",
       "        vertical-align: top;\n",
       "    }\n",
       "\n",
       "    .dataframe thead th {\n",
       "        text-align: right;\n",
       "    }\n",
       "</style>\n",
       "<table border=\"1\" class=\"dataframe\">\n",
       "  <thead>\n",
       "    <tr style=\"text-align: right;\">\n",
       "      <th></th>\n",
       "      <th>Wall time</th>\n",
       "      <th>Step</th>\n",
       "      <th>Value</th>\n",
       "    </tr>\n",
       "  </thead>\n",
       "  <tbody>\n",
       "    <tr>\n",
       "      <th>0</th>\n",
       "      <td>1.638097e+09</td>\n",
       "      <td>0</td>\n",
       "      <td>41.139782</td>\n",
       "    </tr>\n",
       "    <tr>\n",
       "      <th>1</th>\n",
       "      <td>1.638098e+09</td>\n",
       "      <td>1</td>\n",
       "      <td>41.079063</td>\n",
       "    </tr>\n",
       "    <tr>\n",
       "      <th>2</th>\n",
       "      <td>1.638098e+09</td>\n",
       "      <td>2</td>\n",
       "      <td>41.734150</td>\n",
       "    </tr>\n",
       "    <tr>\n",
       "      <th>3</th>\n",
       "      <td>1.638099e+09</td>\n",
       "      <td>3</td>\n",
       "      <td>42.287098</td>\n",
       "    </tr>\n",
       "    <tr>\n",
       "      <th>4</th>\n",
       "      <td>1.638099e+09</td>\n",
       "      <td>4</td>\n",
       "      <td>42.410545</td>\n",
       "    </tr>\n",
       "    <tr>\n",
       "      <th>...</th>\n",
       "      <td>...</td>\n",
       "      <td>...</td>\n",
       "      <td>...</td>\n",
       "    </tr>\n",
       "    <tr>\n",
       "      <th>245</th>\n",
       "      <td>1.638255e+09</td>\n",
       "      <td>245</td>\n",
       "      <td>43.829960</td>\n",
       "    </tr>\n",
       "    <tr>\n",
       "      <th>246</th>\n",
       "      <td>1.638255e+09</td>\n",
       "      <td>246</td>\n",
       "      <td>43.826599</td>\n",
       "    </tr>\n",
       "    <tr>\n",
       "      <th>247</th>\n",
       "      <td>1.638256e+09</td>\n",
       "      <td>247</td>\n",
       "      <td>43.827690</td>\n",
       "    </tr>\n",
       "    <tr>\n",
       "      <th>248</th>\n",
       "      <td>1.638256e+09</td>\n",
       "      <td>248</td>\n",
       "      <td>43.829533</td>\n",
       "    </tr>\n",
       "    <tr>\n",
       "      <th>249</th>\n",
       "      <td>1.638257e+09</td>\n",
       "      <td>249</td>\n",
       "      <td>43.828308</td>\n",
       "    </tr>\n",
       "  </tbody>\n",
       "</table>\n",
       "<p>250 rows × 3 columns</p>\n",
       "</div>"
      ],
      "text/plain": [
       "        Wall time  Step      Value\n",
       "0    1.638097e+09     0  41.139782\n",
       "1    1.638098e+09     1  41.079063\n",
       "2    1.638098e+09     2  41.734150\n",
       "3    1.638099e+09     3  42.287098\n",
       "4    1.638099e+09     4  42.410545\n",
       "..            ...   ...        ...\n",
       "245  1.638255e+09   245  43.829960\n",
       "246  1.638255e+09   246  43.826599\n",
       "247  1.638256e+09   247  43.827690\n",
       "248  1.638256e+09   248  43.829533\n",
       "249  1.638257e+09   249  43.828308\n",
       "\n",
       "[250 rows x 3 columns]"
      ]
     },
     "execution_count": 38,
     "metadata": {},
     "output_type": "execute_result"
    }
   ],
   "source": [
    "psnr_tr"
   ]
  },
  {
   "cell_type": "code",
   "execution_count": 57,
   "id": "2edd777e",
   "metadata": {},
   "outputs": [
    {
     "data": {
      "image/png": "[encoded data removed]",
      "text/plain": [
       "<Figure size 432x432 with 2 Axes>"
      ]
     },
     "metadata": {
      "needs_background": "light"
     },
     "output_type": "display_data"
    }
   ],
   "source": [
    "fig, (ax1, ax2) = plt.subplots(2, 1, sharex=True, figsize=(6, 6))\n",
    "\n",
    "ax1.plot(lr[\"Step\"], lr[\"Value\"])\n",
    "ax1.set_title('Learning rate using ReduceLROnPlateaux')\n",
    "ax1.set_ylabel('Learning Rate')\n",
    "\n",
    "ax2.plot(psnr_tr[\"Step\"], psnr_tr[\"Value\"], color='crimson')\n",
    "ax2.set_title('PSNR')\n",
    "ax2.set_xlabel('Epoch')\n",
    "ax2.set_ylabel('PSNR (dB)')\n",
    "\n",
    "fig.savefig(\"./imgs/learning_rate.pdf\", bbox_inches = 'tight', pad_inches = 0)"
   ]
  },
  {
   "cell_type": "code",
   "execution_count": 3,
   "id": "132b2299",
   "metadata": {},
   "outputs": [],
   "source": [
    "with open('stats/saved_models/prnu_results', 'rb') as model_file:\n",
    "    try:\n",
    "        prnu_result = pickle.load(model_file)\n",
    "    except:\n",
    "        exit('The loaded object is not a MemoryTree')"
   ]
  },
  {
   "cell_type": "code",
   "execution_count": 4,
   "id": "67679897",
   "metadata": {},
   "outputs": [],
   "source": [
    "cc = prnu_result['cc']\n",
    "pce = prnu_result['pce']"
   ]
  },
  {
   "cell_type": "code",
   "execution_count": 51,
   "id": "624b9625",
   "metadata": {
    "scrolled": true
   },
   "outputs": [
    {
     "data": {
      "image/png": "[encoded data removed]",
      "text/plain": [
       "<Figure size 400x400 with 1 Axes>"
      ]
     },
     "metadata": {
      "needs_background": "light"
     },
     "output_type": "display_data"
    }
   ],
   "source": [
    "fig, ax = plt.subplots(figsize=(5,5),dpi=80)\n",
    "ax.fill(np.insert(cc['fpr'],cc['fpr'].size,1.0), np.insert(cc['tpr'],cc['tpr'].size,0.0), 'red')\n",
    "\n",
    "ax.set_title('Area Under the Curve (ROC)')\n",
    "ax.set_xlabel('FPR', loc='right')\n",
    "ax.set_ylabel('TPR', loc='top', rotation=0)\n",
    "ax.set(xlim=(0.0,1.0), ylim=(0.0,1.0))\n",
    "\n",
    "# set the x-spine\n",
    "ax.spines['left'].set_position('zero')\n",
    "\n",
    "# turn off the right spine/ticks\n",
    "ax.spines['right'].set_color('none')\n",
    "ax.yaxis.tick_left()\n",
    "\n",
    "# set the y-spine\n",
    "ax.spines['bottom'].set_position('zero')\n",
    "\n",
    "# turn off the top spine/ticks\n",
    "ax.spines['top'].set_color('none')\n",
    "ax.xaxis.tick_bottom()\n",
    "\n",
    "plt.show()\n",
    "\n",
    "fig.savefig(\"./imgs/roc.pdf\", bbox_inches = 'tight', pad_inches = 0)"
   ]
  }
 ],
 "metadata": {
  "kernelspec": {
   "display_name": "Python 3 (ipykernel)",
   "language": "python",
   "name": "python3"
  },
  "language_info": {
   "codemirror_mode": {
    "name": "ipython",
    "version": 3
   },
   "file_extension": ".py",
   "mimetype": "text/x-python",
   "name": "python",
   "nbconvert_exporter": "python",
   "pygments_lexer": "ipython3",
   "version": "3.10.1"
  }
 },
 "nbformat": 4,
 "nbformat_minor": 5
}
